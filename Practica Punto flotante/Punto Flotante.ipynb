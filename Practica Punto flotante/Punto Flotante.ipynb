{
 "cells": [
  {
   "cell_type": "markdown",
   "metadata": {},
   "source": [
    "## Fuentes de Error \n",
    "\n",
    "El error puede provenir de muchas fuentes al usar un método numérico:\n",
    "  - Modelo / Error de datos\n",
    "  - Error de truncamiento\n",
    "  - Error de punto flotante\n",
    " \n",
    "**Objetivo:** Clasificar y comprender cada tipo de error y explorar algunos enfoques simples para analizar el error."
   ]
  },
  {
   "cell_type": "markdown",
   "metadata": {},
   "source": [
    "## Modelos y error de datos\n",
    "\n",
    "Errores en la formulación fundamental.\n",
    "  - Lotka-Volterra - conejos fraccionarios, sin extinciones, etc.\n",
    "  - Error de datos - Inexactitud en la medición o incertidumbres en los parámetros\n",
    " \n",
    "Desafortunadamente, no podemos controlar el modelo y el error de datos directamente, pero podemos usar métodos que pueden ser más sólidos en la presencia de este tipo de errores."
   ]
  },
  {
   "cell_type": "markdown",
   "metadata": {},
   "source": [
    "## Error de truncamiento\n",
    "\n",
    "El clásico ejemplo de error de truncamiento es el calcular $sin(\\pi)$, pues como ya vimos en el curso, para su calculo desarrollamos en serie de pontencias a $sin(x)$ alrededor de un punto y luego truncamos esta a algún termino. Este truncamiento induce un error debido a que imposible hacer el calculo de la serie. "
   ]
  },
  {
   "cell_type": "markdown",
   "metadata": {},
   "source": [
    "# Aritmética de punto flotante"
   ]
  },
  {
   "cell_type": "markdown",
   "metadata": {},
   "source": [
    "## Representación de punto fijo\n",
    "\n",
    "Antes recordemos que cualquier número racional tiene una descomposición decimal, es decir, para $x\\in \\mathbb{Q}$, tenemos que;\n",
    "\n",
    "$x = \\pm (\\alpha_{n}10^{n} + \\alpha_{n-1}10^{n-1} \\cdots \\alpha_{0}10^{0} + \\alpha_{-1}10^{-1} + \\alpha_{-2}10^{-2} + \\dots)$ Con $0\\leq \\alpha_{n}<10$ para $n\\in \\mathbb{Z}$\n",
    "\n",
    "Pero también este mismo racional $x$ tiene una descomposición binaria esto es:\n",
    "\n",
    "$x = \\pm (\\alpha_{n}2^{n} + \\alpha_{n-1}2^{n-1} \\cdots \\alpha_{0}2^{0} + \\alpha_{-1}2^{-1} + \\alpha_{-2}2^{-2} + \\dots)$ Con $0\\leq \\alpha_{n}<2$ para $n\\in \\mathbb{Z}$\n",
    "\n",
    "Por ejemplo si queremos represenar al número $\\dfrac{11}{2}$ es su representación binaria esta es $\\dfrac{11}{2} = 4 + 0  + 1 + \\frac{1}{2} =  + 1 \\times 2^{2} + 0 \\times 2^1 + 1 \\times 2^0 + 1 \\times 2 ^{-1}= (101.1)_{2}$\n",
    "\n"
   ]
  },
  {
   "cell_type": "markdown",
   "metadata": {},
   "source": [
    "Ahora supongamos que una computadora tenemos resevados para cada número sólo 32 lugares, por lo que una forma de almacenar números podría ser la siguiente; cada número de computadora se puede dividir en 3 campos. El primer lugar lo\n",
    "ocupa el signo y los 31 bits restantes se dividen en dos campos de 15 y 16 bits respectivamente.\n",
    "<font color=blue>0</font> <font color=green>000000000000000</font> <font color=red>0000000000000000</font>\n",
    "\n",
    "Es decir;\n",
    "* <font color=blue> El Primero campo es asignado al sigino, 0 para más y 1 para menos </font>\n",
    "* <font color=gren> El Segudo campo de 15 bits esta asignado para la parte entera del número </font>\n",
    "* <font color=red>Los últimos 16 bits se asignan para la parte fraccionaria </font>\n",
    "\n",
    "Como ejemplo veamos a el número $\\dfrac{11}{2}$. Por lo que dicha representación es:\n",
    "\n",
    "<font color=blue>0</font> <font color=green>000000000000101</font> <font color=red>1000000000000000</font>"
   ]
  },
  {
   "cell_type": "markdown",
   "metadata": {},
   "source": [
    "Otro ejemplo interesante es $\\dfrac{1}{10} = (0.1)_{10}= (0.000110011001100 \\dots)_{2}$ y representación de punto fijo es:\n",
    "\n",
    "<font color=blue> 0 </font> <font color=green>000000000000000</font> <font color=red>0001100110011001</font>"
   ]
  },
  {
   "cell_type": "markdown",
   "metadata": {},
   "source": [
    "Otra manera más eficiente para es flotar el punto hasta el primer elemento no cero y asignar un cantidad de lugares para el exponente, digamos ocho. Por lo que la representación de sería:\n",
    "\n",
    "<font color=blue> 0 </font><font color=green>00000000</font> <font color=red>00000000000000000</font>\n",
    "\n",
    "\n",
    "* <font color=gren> El Segudo campo de 8 bits esta asignado para el exponente </font>\n",
    "* <font color=red>Los últimos 24 bits se asignan para la parte fraccionaria </font>"
   ]
  },
  {
   "cell_type": "markdown",
   "metadata": {},
   "source": [
    "Para el caso de un sistema binario $b_0= 1$ podemos normalizar el significado de $S=(b_0.b_1b_2\\dots b_{23})_2$ a $S=(1.b_1b_2\\dots b_{23})_2$, puesto que $b_0$ siempre es uno podemos omitir este del significado y ocupar un espacio más en el significado, esto es $S=(b_1b_2\\dots b_{24})_2$, a $S$ de está manera se le conoce como *mantisa* y a $b_0$ como al *bit escondido*. Además observemos que, puesto que se tienen ocho espacios para el exponente, podemomos generear exponentes entre $-128$ y $127$, pues el exponente más grande en binario que se puede representar con 8 lugares incluyendo el signo es $127$.\n",
    "\n",
    "* De nueva cuenta regresemos al ejemplo $\\dfrac{11}{2}=(1.011)_{2} \\times 2 ^{2}$, y en la reprentación de punto flotante normalizada tenemos:\n",
    "\n",
    " <font color=blue>0</font> <font color=green>00000010</font> <font color=red>011100000000000000000000</font>\n",
    "* El número $71 = (1000111)_2= (1.000111)_ \\times 2 ^6 $ y su representación de punto flotante normalizada es:\n",
    "\n",
    " <font color=blue>0</font> <font color=green>00000110</font> <font color=red>000111000000000000000000</font>\n",
    " \n",
    "* El número $1024 =(10000000000)_2 = (1.0)_2 \\times 2 ^{10}$ \n",
    "<font color=blue>0</font> <font color=green>00001010</font> <font color=red>000000000000000000000000</font>"
   ]
  },
  {
   "cell_type": "markdown",
   "metadata": {},
   "source": [
    "Si $x$ es un número que no tiene una expansión binaria finita, debemos terminar su expansión en algún lado. Por ejemplo considerar el número $1/10 = (0.0001100110011...)_2$, si lo truncamos a 23 bits después del punto binario obtenemos $(0.00011001100110011001100)_2$. Sin embargo, si luego lo normailizamos obtenemos $(1.1001100110011001100)_2 \\times 2^{-4}$. De fomra que haya un $1$ antes del punto binario, encontramos que ahora tenemos 19 bits correctos después del punto binario. Esto nos lleva a la representación necariamente.\n",
    "\n",
    "<font color=blue>0</font> <font color=green>1000100</font> <font color=red>10011001100110011000000</font>\n",
    "\n",
    "Claramente esta no es una buena idea. Es preferible primero normalizar y luego truncar de forma que conservemos los 23  bits correctos después del punto binario\n",
    "\n",
    "<font color=blue>0</font> <font color=green>1000100</font> <font color=red>10011001100110011001100</font>\n",
    "\n",
    "de esta forma se utilizan todos los bits disponibles."
   ]
  },
  {
   "cell_type": "markdown",
   "metadata": {
    "collapsed": true
   },
   "source": [
    "## Presición, epsilón de la máquina\n",
    "\n",
    "La precisión del sistema de punto flotante es el  número de bits del significado (inclusive el bit escondido). Denotamos la precisión por $p$. En el sistema que acabamos de describir $p=24$ (23 bits alamacenados para la parte fraccionaria más el bit escondido a la cabeza). Cualquier número de punto flotante normalizado con precisón $p$ puede expresarse como $$x=\\pm(1.b_1b_2...b_{p-2}b_{p-1})\\times 2^E$$\n",
    "\n",
    "\n",
    "\n",
    "Formalmente, un sistema de punto flotante se caracteriza por cuatro números enteros:\n",
    "\n",
    "* $\\beta$ la base\n",
    "* $p$ presición\n",
    "* $[L,U]$ el mínimo y máximo de los exponentes\n",
    "\n",
    "Por definición un número $x$ en el sistema de punto flotante es representado como:\n",
    "\n",
    "\\begin{equation}\n",
    "x = \\pm\\left( d_0 + \\frac{d_1}{\\beta} + + \\frac{d_2}{\\beta ^2} + \\cdots + \\frac{d_{p-1}}{\\beta ^{p-1}} \\right) \\beta^{e}\n",
    "\\end{equation}\n",
    "donde $d_0\\neq 0$, $0\\leq d_i \\leq \\beta -1$ e $i= 0,\\dots , p-1$\n",
    "\n",
    "$L \\leq e \\leq U$\n",
    "\n",
    "Un sistema numérico de punto flotante es finito y discreto. La cantidad de números de punto flotante normalizados es: $$ 2(\\beta -1)\\beta^{p-1}(U-L+1) + 1$$\n",
    "\n",
    "Obsevemos los siguiente:\n",
    "\n",
    "* El número 2 de la expresión anterior corresponde al signo más y menos, por sin ese lugar todos lo números serían positivos\n",
    "* El término $\\beta - 1$ corresponde a la normalización de $d_0$, ya que este puede tomar valores de $0$ a $\\beta -1$\n",
    "* $\\beta^{p-1}$ son los dígitos después del punto que toman valores de $0$ a $\\beta -1$\n",
    "* El término $(U-L+1)$ corresponde de la base al exponente\n",
    "* Por último el $+1$ es el cero"
   ]
  },
  {
   "cell_type": "markdown",
   "metadata": {},
   "source": [
    "Existe un número más pequeño que se puede representar con el esquema de normalización de punto flotate y este se conoce como:\n",
    "\n",
    "Underflow level = UFL = $\\beta^L$, es decir, $x = \\left( d_0 + \\frac{d_1}{\\beta} +  \\frac{d_2}{\\beta ^2} + \\cdots + \\frac{d_{p-1}}{\\beta ^{p-1}} \\right) \\beta^{e}$, tomamos $d_i = 0, \\forall i = 1,\\dots,p-1$, entonces\n",
    "\n",
    "$x_{mím} = \\left( d_0  \\right) \\beta^{e}$, pero $d_0=1$ y el exponente más pequeño es $e =L$, por lo que se tiene:\n",
    "\n",
    "$x = \\beta^{L}$\n",
    "\n",
    "Y el número más grande en la representación de punto flotante es:\n",
    "\n",
    "Overflow level = OFL = $\\beta^{U+1}(1-\\beta^{-p})$\n",
    "\n",
    "$x_{máx} = \\left( \\beta -1 + \\frac{\\beta -1}{\\beta} +  \\frac{\\beta -1}{\\beta ^2} + \\cdots + \\frac{\\beta -1}{\\beta ^{p-1}} \\right) \\beta^{U} = (\\beta -1)\\left( 1 + \\frac{1}{\\beta} +  \\frac{1}{\\beta ^2} + \\cdots + \\frac{1}{\\beta ^{p-1}} \\right) \\beta^{U} = (\\beta -1) \\displaystyle \\sum _{i=0} ^{p-1} \\frac{1}{\\beta^{i}} \\beta^{U}= (\\beta -1) \\left(\\dfrac{1-\\frac{1}{\\beta^p}}{1- \\frac{1}{\\beta}}\\right) \\beta^{U} = (\\beta -1) \\left(\\dfrac{\\frac{1-\\beta ^{-p}}{1}}{\\frac{\\beta -1}{\\beta}}\\right) \\beta^{U} = (1-\\beta^{-p})\\beta^{U+1} $\n",
    "\n"
   ]
  },
  {
   "cell_type": "markdown",
   "metadata": {},
   "source": [
    "Los números de punto flotante no se distribuyen uniformemente a lo largo de su dominio, sino que están equiespaciados solo entre las potencias sucesivas de $\\beta$. No todos los números reales son exactamente representables en un sistema de punto flotante. Los números reales que son exactamente representables en un sistema de punto flotante dado a veces se llaman números de máquina."
   ]
  },
  {
   "cell_type": "markdown",
   "metadata": {},
   "source": [
    "Por último **el épsilon de la máquina** es el número decimal más pequeño que, sumado a 1, la computadora nos arroja un valor diferente de 1, es decir, que no es redondeado. La existencia del épsilon de la máquina es una consecuencia de la precisión finita de la aritmética en coma flotante."
   ]
  },
  {
   "cell_type": "markdown",
   "metadata": {},
   "source": [
    "##### Ejemplo :  Sistema de Juguete\n",
    "\n",
    "Considere un sistema decimal con una presición de dos dígitos (normalizado)\n",
    "$$f = \\pm d_1 . d_2 \\times 10^E$$\n",
    "con $E \\in [-2, 0]$.\n",
    "\n",
    "**Números and distribución de números**\n",
    "1. ¿Cuántos números podemos representar con este sistema?\n",
    "2. ¿Cuál es la distribución en la línea real?\n",
    "3. ¿Cuál es el límite de desbordamiento?"
   ]
  },
  {
   "cell_type": "markdown",
   "metadata": {},
   "source": [
    " ¿Cuántos números podemos representar con este sistema?\n",
    "\n",
    "$$\n",
    "    f = \\pm d_1 . d_2 \\times 10^E ~~~ \\text{con} E \\in [-2, 0]\n",
    "$$\n",
    "\n",
    "$$ \n",
    "    2 \\times 9 \\times 10 \\times 3 + 1 = 541    \n",
    "$$"
   ]
  },
  {
   "cell_type": "markdown",
   "metadata": {},
   "source": [
    "¿Cuál es la distribución en la línea real?"
   ]
  },
  {
   "cell_type": "markdown",
   "metadata": {},
   "source": [
    "El número más pequeño que podemos representar es $1.0 \\times 10^{-2} = 0.01$. Y el más grande es $9.9 \\times 10^{0} = 9.9$"
   ]
  },
  {
   "cell_type": "code",
   "execution_count": 1,
   "metadata": {},
   "outputs": [],
   "source": [
    "%matplotlib inline\n",
    "from numpy import *\n",
    "import matplotlib.pyplot as plt"
   ]
  },
  {
   "cell_type": "code",
   "execution_count": null,
   "metadata": {},
   "outputs": [],
   "source": []
  },
  {
   "cell_type": "code",
   "execution_count": 2,
   "metadata": {},
   "outputs": [],
   "source": [
    "d0_vales=[1,2,3,4,5,6,7,8,9]\n",
    "d1_vales=[0,1,2,3,4,5,6,7,8,9]\n",
    "base=10\n",
    "E_vales=[-2,-1,0]\n",
    "\n",
    "floatnumbers=[0]\n",
    "\n",
    "for E in E_vales:\n",
    "    for d0 in d0_vales:\n",
    "        for d1 in d1_vales:\n",
    "            floatnumbers.append((d0+ d1/base)*base**E)\n",
    "            floatnumbers.append(-1.0*((d0+ d1/base)*base**E))\n",
    "            "
   ]
  },
  {
   "cell_type": "code",
   "execution_count": 3,
   "metadata": {},
   "outputs": [
    {
     "data": {
      "text/plain": [
       "-9.9"
      ]
     },
     "execution_count": 3,
     "metadata": {},
     "output_type": "execute_result"
    }
   ],
   "source": [
    "floatnumbers[540]"
   ]
  },
  {
   "cell_type": "code",
   "execution_count": 4,
   "metadata": {},
   "outputs": [
    {
     "data": {
      "text/plain": [
       "[<matplotlib.lines.Line2D at 0x242aa7af898>]"
      ]
     },
     "execution_count": 4,
     "metadata": {},
     "output_type": "execute_result"
    },
    {
     "data": {
      "image/png": "[encoded data removed]",
      "text/plain": [
       "<Figure size 432x288 with 1 Axes>"
      ]
     },
     "metadata": {
      "needs_background": "light"
     },
     "output_type": "display_data"
    }
   ],
   "source": [
    "plt.plot(floatnumbers, zeros(len(floatnumbers)), \",\")\n",
    "#plt.xlim(-0.01,0.01)"
   ]
  },
  {
   "cell_type": "markdown",
   "metadata": {},
   "source": [
    "### Ejercicio 2\n",
    "\n",
    "**Repetir lo mismo pero para un sistema binario con una precisión de $2$. Esto es:**\n",
    "\n",
    "$$\n",
    "    f=\\pm d_1 . d_2 \\times 2^E \\quad \\text{con} \\quad E \\in [-1, 1]\n",
    "$$"
   ]
  },
  {
   "cell_type": "code",
   "execution_count": 5,
   "metadata": {},
   "outputs": [],
   "source": [
    "d0_vales=[1]\n",
    "d1_vales=[0,1]\n",
    "d2_vales=[0,1]\n",
    "base=2\n",
    "E_vales=[-1,0,1]\n",
    "\n",
    "floatnumbersb=[0]\n",
    "\n",
    "for E in E_vales:\n",
    "    for d0 in d0_vales:\n",
    "        for d1 in d1_vales:\n",
    "            for d2 in d2_vales:\n",
    "                floatnumbersb.append((d0+ d1/base+ d2/(base**2))*base**E)\n",
    "                floatnumbersb.append(-1.0*((d0+ d1/base+ d2/(base**2))*base**E))"
   ]
  },
  {
   "cell_type": "code",
   "execution_count": 6,
   "metadata": {},
   "outputs": [
    {
     "data": {
      "text/plain": [
       "25"
      ]
     },
     "execution_count": 6,
     "metadata": {},
     "output_type": "execute_result"
    }
   ],
   "source": [
    "len(floatnumbersb)"
   ]
  },
  {
   "cell_type": "code",
   "execution_count": 7,
   "metadata": {},
   "outputs": [
    {
     "data": {
      "text/plain": [
       "[<matplotlib.lines.Line2D at 0x242aa84e908>]"
      ]
     },
     "execution_count": 7,
     "metadata": {},
     "output_type": "execute_result"
    },
    {
     "data": {
      "image/png": "[encoded data removed]",
      "text/plain": [
       "<Figure size 432x288 with 1 Axes>"
      ]
     },
     "metadata": {
      "needs_background": "light"
     },
     "output_type": "display_data"
    }
   ],
   "source": [
    "plt.plot(floatnumbersb, zeros(len(floatnumbersb)), \",\")\n",
    "#plt.xlim(-0.01,0.01)"
   ]
  },
  {
   "cell_type": "markdown",
   "metadata": {},
   "source": [
    "### Ejercicio 3\n",
    "\n",
    "**Realice lo mismo  el siguiente sistema de punto flotante (2,3,-1,1)**\n",
    "\n",
    "Esto es: $\\beta =2$, $p=3$,$L=-1$, $U=1$ \n",
    "\n",
    "* Calculemos primero $UFL$\n",
    "* Ahora calculemos $OFL $\n",
    "* La cantidad de elementos de punto flotante. "
   ]
  },
  {
   "cell_type": "code",
   "execution_count": 8,
   "metadata": {},
   "outputs": [
    {
     "name": "stdout",
     "output_type": "stream",
     "text": [
      "Éste es el valor OFL 0.5\n",
      "Éste es el valor UFL 3.5\n"
     ]
    },
    {
     "data": {
      "image/png": "[encoded data removed]",
      "text/plain": [
       "<Figure size 432x288 with 1 Axes>"
      ]
     },
     "metadata": {
      "needs_background": "light"
     },
     "output_type": "display_data"
    }
   ],
   "source": [
    "d0_vales=[1]\n",
    "d1_vales=[0,1]\n",
    "d2_vales=[0,1]\n",
    "d3_vales=[0,1]\n",
    "base3=2\n",
    "l=-1\n",
    "u=1\n",
    "p=3\n",
    "E_vales=[-1,0,1]\n",
    "\n",
    "floatnumbersb=[0]\n",
    "\n",
    "for E in E_vales:\n",
    "    for d0 in d0_vales:\n",
    "        for d1 in d1_vales:\n",
    "            for d2 in d2_vales:\n",
    "                floatnumbersb.append((d0+ d1/base+ d2/(base**2))*base**E)\n",
    "                floatnumbersb.append(-1.0*((d0+ d1/base+ d2/(base**2))*base**E))\n",
    "plt.plot(floatnumbersb, zeros(len(floatnumbersb)), \",\")\n",
    "OFl=float((base3)**l)\n",
    "uFL=float((base3**(u+1))*(1-(base3**-p)))\n",
    "print(\"Éste es el valor OFL\", OFl)\n",
    "print(\"Éste es el valor UFL\", uFL)"
   ]
  },
  {
   "cell_type": "code",
   "execution_count": 9,
   "metadata": {},
   "outputs": [
    {
     "data": {
      "text/plain": [
       "25"
      ]
     },
     "execution_count": 9,
     "metadata": {},
     "output_type": "execute_result"
    }
   ],
   "source": [
    "len(floatnumbersb)"
   ]
  },
  {
   "cell_type": "markdown",
   "metadata": {},
   "source": [
    "### Ejercicio 4\n",
    "\n",
    "Realicé una función que se llame ```elemetsFloat(base, 3, L, U)```\n",
    "\n",
    "y genere un sistema de punto flotante, para una base y exponentes dados. Pero presición $3$ Además esta función debe de regresar la cantidad de elementos del sistema así como los $UFL$ y $OFL$"
   ]
  },
  {
   "cell_type": "code",
   "execution_count": 10,
   "metadata": {},
   "outputs": [
    {
     "name": "stdout",
     "output_type": "stream",
     "text": [
      "Inserta base10\n",
      "Inserte limite inferior-2\n",
      "Inserte limite superior2\n"
     ]
    },
    {
     "data": {
      "text/plain": [
       "(0.01, 999.0)"
      ]
     },
     "execution_count": 10,
     "metadata": {},
     "output_type": "execute_result"
    },
    {
     "data": {
      "image/png": "[encoded data removed]",
      "text/plain": [
       "<Figure size 432x288 with 1 Axes>"
      ]
     },
     "metadata": {
      "needs_background": "light"
     },
     "output_type": "display_data"
    }
   ],
   "source": [
    "basec=int(input(\"Inserta base\"))\n",
    "p1=3\n",
    "L1=int(input(\"Inserte limite inferior\"))\n",
    "U1=int(input(\"Inserte limite superior\"))\n",
    "#elementsFloat(basec,p1,L1,U1)\n",
    "def elementsFloat(base,p,L,U):\n",
    "    d1_values=[0]\n",
    "    d2_values=[0]\n",
    "    d0_values=[]\n",
    "    E_values=[]\n",
    "    F=[0]\n",
    "    OFL=(base)**L\n",
    "    UFL=(base**(U+1))*(1-(base**-p))\n",
    "    for n in range(1,base):\n",
    "        d1_values.append(n)\n",
    "        d2_values.append(n)\n",
    "        d0_values.append(n)\n",
    "    for i in range(L,U):\n",
    "        E_values.append(i)\n",
    "    for E in E_values:\n",
    "        for d0 in d0_values:\n",
    "            for d1 in d1_values:\n",
    "                for d2 in d2_values:\n",
    "                    F.append((d0 + (d1/base) + (d2/(base**2))*base**E))\n",
    "                    F.append(-1.0*(d0 + (d1/base) + (d2/(base**2))*base**E))\n",
    "    plt.plot(F, zeros(len(F)), \",\", markersize = 20)\n",
    "    #print(d0_values)\n",
    "    return OFL , UFL\n",
    "    \n",
    "elementsFloat(basec,p1,L1,U1)\n"
   ]
  },
  {
   "cell_type": "markdown",
   "metadata": {},
   "source": [
    "## Ejercicio 5\n",
    "\n",
    "¿Cómo podría extender la función ```elemetsFloat(base, presicion, L, U)``` para que la presición sea arbitraria?"
   ]
  },
  {
   "cell_type": "code",
   "execution_count": 11,
   "metadata": {},
   "outputs": [
    {
     "name": "stdout",
     "output_type": "stream",
     "text": [
      "Inserta base: 3\n",
      "Inserta precisión: 3\n",
      "Inserte limite inferior: -2\n",
      "Inserte limite superior: 2\n"
     ]
    },
    {
     "data": {
      "image/png": "[encoded data removed]",
      "text/plain": [
       "<Figure size 432x288 with 1 Axes>"
      ]
     },
     "metadata": {
      "needs_background": "light"
     },
     "output_type": "display_data"
    }
   ],
   "source": [
    "%matplotlib inline\n",
    "from numpy import *\n",
    "import matplotlib.pyplot as plt\n",
    "\n",
    "basec=int(input(\"Inserta base: \"))\n",
    "p1=int(input(\"Inserta precisión: \"))\n",
    "L1=int(input(\"Inserte limite inferior: \"))\n",
    "U1=int(input(\"Inserte limite superior: \"))\n",
    "\n",
    "#función para permutar los d\n",
    "def permutaciones(dn,o):\n",
    "    g=power(o*dn)\n",
    "    permutado=[]\n",
    "    for i in range(0,len(g)):\n",
    "        if len(g[i])==o:\n",
    "            permutado.append(g[i])\n",
    "            if g[1][0]==0:\n",
    "                permutado.pop(g[i])\n",
    "    return permutado\n",
    "def To(e, t):       \n",
    "        for s in t:\n",
    "                s += [e]\n",
    "        return t \n",
    "def power(a_set):\n",
    "        if not a_set: return [[]]\n",
    "        e = a_set[0]\n",
    "        t = a_set[1:]\n",
    "        return power(t) + To(e, power(t))\n",
    "def elementsFloat(base,p,L,U):\n",
    "    \n",
    "    d0_values=[]\n",
    "    dn_values=[0]\n",
    "    d_list=[]\n",
    "    betas=[]\n",
    "    betas_inversas=[]\n",
    "    x=[]\n",
    "    E_values=[]\n",
    "    F=[0]\n",
    "    OFL=(base)**L\n",
    "    UFL=(base**(U+1))*(1-(base**-p))\n",
    "    \n",
    "    #Crea valores de E\n",
    "    for i in range(L,U):\n",
    "        E_values.append(i)\n",
    "    #Crea betas\n",
    "    for a in range(1,p+1):\n",
    "        beta=base**(a-1)\n",
    "        betas.append(beta)\n",
    "    #invierte betas\n",
    "    for i in range(0,len(betas)):\n",
    "        u=1/(betas[i])\n",
    "        betas_inversas.append(u)\n",
    "    #Crea valores de dn, d0 y lista d aunque la lista d al final no fue necesaria\n",
    "    for i in range(1,base):\n",
    "        dn_values.append(i)\n",
    "        d0_values.append(i)\n",
    "    d_list.append(d0_values)\n",
    "    for n in range(1,p):\n",
    "        d_list.append(dn_values)\n",
    "    #llama función para permutar valores dn\n",
    "    d_permutados=permutaciones(dn_values,p)  \n",
    "    #Obtención de F\n",
    "    for E in E_values:\n",
    "        for i in range (0,len(d_permutados)):\n",
    "            c=0\n",
    "            for a in range(0,len(betas)):\n",
    "                b=d_permutados[i][a]*betas[a]\n",
    "                c=c+b\n",
    "            d=c*base**E\n",
    "            F.append(d)\n",
    "            F.append(-d)\n",
    "    #Gráfica\n",
    "    plt.plot(F, zeros(len(F)), \",\", markersize = 20)\n",
    "\n",
    "#Llamado de función\n",
    "elementsFloat(basec,p1,L1,U1)"
   ]
  },
  {
   "cell_type": "code",
   "execution_count": null,
   "metadata": {},
   "outputs": [],
   "source": [
    "p=int(input(\"Inserta precisión \"))\n",
    "d0_values=[]\n",
    "dn_values=[0]\n",
    "d_list=[]\n",
    "for i in range(1,p):\n",
    "    dn_values.append(i)\n",
    "    d0_values.append(i)\n",
    "d_list.append(d0_values)\n",
    "for i in range(1,p):\n",
    "    d_list.append(dn_values)\n",
    "print(d_list)\n",
    "print(d_list[1][3])\n"
   ]
  },
  {
   "cell_type": "code",
   "execution_count": null,
   "metadata": {},
   "outputs": [],
   "source": [
    "p=3\n",
    "\n",
    "def permutaciones(dn):\n",
    "    g=power(p*dn)\n",
    "    permutado=[]\n",
    "    for i in range(0,len(g)):\n",
    "        if len(g[i])==p:\n",
    "            permutado.append(g[i])\n",
    "            if g[1][0]==0:\n",
    "                permutado.pop(g[i])\n",
    "    return permutado\n",
    "def To(e, t):       \n",
    "        for s in t:\n",
    "                s += [e]\n",
    "        return t \n",
    "def power(a_set):\n",
    "        if not a_set: return [[]]\n",
    "        e = a_set[0]\n",
    "        t = a_set[1:]\n",
    "        return power(t) + To(e, power(t))\n",
    "permutaciones(betas)\n"
   ]
  },
  {
   "cell_type": "code",
   "execution_count": null,
   "metadata": {},
   "outputs": [],
   "source": [
    "betas=[]\n",
    "p=3\n",
    "base=10\n",
    "for a in range(1,p+1):\n",
    "    beta=base**(a-1)\n",
    "    betas.append(beta)\n",
    "print(betas)\n",
    "print(p)\n",
    "def invertir(be):\n",
    "    betas_inversas=[]\n",
    "    for i in range(0,len(be)):\n",
    "        u=1/(be[i])\n",
    "        betas_inversas.append(u)\n",
    "    return betas_inversas\n",
    "invertir(betas)\n",
    "#print(betas_inversas)"
   ]
  },
  {
   "cell_type": "code",
   "execution_count": null,
   "metadata": {},
   "outputs": [],
   "source": [
    "F=[0]\n",
    "d_permutados=permutaciones(betas)\n",
    "for i in range (0,10):\n",
    "    c=0\n",
    "    for a in range(0,10):\n",
    "        b=i+a\n",
    "        c=c+b\n",
    "        print(c)\n",
    "for i in range (0,len(permutaciones(betas))):\n",
    "            c=0\n",
    "            for a in range(0,len(betas)):\n",
    "                b=d_permutados[i][a]*betas[a]\n",
    "                c=c+b\n",
    "            d=c*base**2\n",
    "            F.append(d)\n",
    "print(F)"
   ]
  },
  {
   "cell_type": "markdown",
   "metadata": {},
   "source": [
    "### Representación sesgada o por exceso del exponente\n",
    "\n",
    "* La cadena de bits que se almacena para el exponente es la representación binaria de $E$ $+127$. El número $127$ que se añade al exponente deseado $E$ se llama el sesgo expeonencial o también el exceso\n",
    "* El número $1=(1.00000...0)_2 \\times 2^0$ se almacena como \n",
    "<font color=blue> $0$ </font> <font color=green> $01111111$ </font> <font color=red> $00000000000000000000000$</font>\n",
    "\n",
    "* La cadena de bits del exponente es la representación binaria de $0+127$"
   ]
  },
  {
   "cell_type": "markdown",
   "metadata": {},
   "source": [
    "# Representación IEEE en punto flotante"
   ]
  },
  {
   "cell_type": "markdown",
   "metadata": {},
   "source": [
    "El estándar IEEE tiene tres requerimientos muy importantes:\n",
    "\n",
    "* Representación consistente de números de punto flotante para todas las máquinas que adopten el estándar\n",
    "* Operaciones correctamente redondeadas de punto flotante, usando varios modos de redondeo\n",
    "* Tratamiento consistente de situaciones excepcionales tales como división por cero"
   ]
  },
  {
   "cell_type": "markdown",
   "metadata": {},
   "source": [
    "### Presición Sencilla 32 bits\n",
    "\n",
    "- El almacenamiento total asignado es de 32 bits.\n",
    "- El exponente es 8 bits $ \\Rightarrow E \\in [-126, 127] $\n",
    "- Fracción 23 bits ($ p = 24 $)\n",
    "\n",
    "```\n",
    "s EEEEEEEE FFFFFFFFFFFFFFFFFFFFFFF\n",
    "0 1      8 9                     31\n",
    "```\n",
    "Overflow $= 2^{127} \\approx 3.4 \\times 10^{38}$\n",
    "\n",
    "Underflow $= 2^{-126} \\approx 1.2 \\times 10^{-38}$\n",
    "\n",
    "$\\epsilon_{\\text{machine}} = 2^{-23} \\approx 1.2 \\times 10^{-7}$"
   ]
  },
  {
   "cell_type": "markdown",
   "metadata": {},
   "source": [
    "### Presición doble 64 bits \n",
    "\n",
    "- El almacenamiento total asignado es de 64 bits.\n",
    "- El exponente es 11 bits $ \\Rightarrow E \\in [-1022, 1024] $\n",
    "- Fracción 52 bits ($ p = 53 $)\n",
    "\n",
    "```\n",
    "s EEEEEEEEEE FFFFFFFFFF FFFFFFFFFF FFFFFFFFFF FFFFFFFFFF FFFFFFFFFF FF\n",
    "0 1       11 12                                                      63\n",
    "```\n",
    "Overflow $= 2^{1024} \\approx 1.8 \\times 10^{308}$\n",
    "\n",
    "Underflow $= 2^{-1022} \\approx 2.2 \\times 10^{-308}$\n",
    "\n",
    "$\\epsilon_{\\text{machine}} = 2^{-52} \\approx 2.2 \\times 10^{-16}$"
   ]
  },
  {
   "cell_type": "markdown",
   "metadata": {},
   "source": [
    "Recordemos que la presentación de los siguientes númerso\n",
    "\n",
    "* $\\dfrac{11}{2}=(1.0111)_{2} \\times 2 ^{3}$, y en la reprentación de punto flotante IEEE tenemos:\n",
    "\n",
    " <font color=blue>$0$</font> <font color=green>$10000011$</font> <font color=red>$011100000000000000000000$</font>\n",
    "\n",
    "* $\\dfrac{1}{10}=(1.100110011 \\dots)_{2} \\times 2 ^{-4}$, y en esta reprentación tenemos:\n",
    "\n",
    " <font color=blue>$0$</font> <font color=green>$01111011$</font> <font color=red>$10011001100110011001100$</font>\n",
    " \n",
    "El tamaño de variación de las cadenas de bits para el campo del exponente en números normalizados es 00000001 a 11111110 (correspondientes a los decimales de 1 a 254), representando exponente efectivos que van de $E_{mín}=-126$ a $E_{máx}=127$. \n",
    "El número positivo normalizado más pequeño que puede almacenarse esta representado por: <font color=blue>$0$</font> <font color=green>$00000001$</font> <font color=red>$00000000000000000000000$</font>"
   ]
  },
  {
   "cell_type": "markdown",
   "metadata": {},
   "source": [
    "Este último número se representa por $N_{mín}= (1.000...0)_2\\times 2 ^{-126} = 2^{-126}≈1.2\\times 10^{-38}$"
   ]
  },
  {
   "cell_type": "code",
   "execution_count": null,
   "metadata": {},
   "outputs": [],
   "source": [
    "2.0^-126"
   ]
  },
  {
   "cell_type": "code",
   "execution_count": null,
   "metadata": {},
   "outputs": [],
   "source": [
    "1.2e-38"
   ]
  },
  {
   "cell_type": "markdown",
   "metadata": {},
   "source": [
    "El mayor número normalizado se representa como <font color=blue>$0$</font> <font color=green>$11111110$</font> <font color=red>$11111111111111111111111$</font> se denota como $N_{máx}=(1.11111...1)_2\\times2^{127}≈3.4\\times10^{38}$"
   ]
  },
  {
   "cell_type": "code",
   "execution_count": null,
   "metadata": {},
   "outputs": [],
   "source": [
    "2.0^127"
   ]
  },
  {
   "cell_type": "markdown",
   "metadata": {
    "collapsed": true
   },
   "source": [
    "### Acceso de Python a los números IEEE\n",
    "\n",
    "Acceda a muchos parámetros importantes, como la máquina épsilon:\n",
    "\n",
    "```python\n",
    "import numpy\n",
    "numpy.finfo(float).eps\n",
    "```"
   ]
  },
  {
   "cell_type": "code",
   "execution_count": null,
   "metadata": {},
   "outputs": [],
   "source": [
    "print(numpy.finfo(numpy.float16))\n",
    "print(numpy.finfo(numpy.float32))\n",
    "print(numpy.finfo(float))\n",
    "print(numpy.finfo(numpy.float128))"
   ]
  },
  {
   "cell_type": "code",
   "execution_count": null,
   "metadata": {},
   "outputs": [],
   "source": [
    "eps = numpy.finfo(float).eps"
   ]
  },
  {
   "cell_type": "code",
   "execution_count": null,
   "metadata": {},
   "outputs": [],
   "source": [
    "eps"
   ]
  },
  {
   "cell_type": "code",
   "execution_count": null,
   "metadata": {},
   "outputs": [],
   "source": [
    "1 + (99*eps)/102"
   ]
  },
  {
   "cell_type": "code",
   "execution_count": null,
   "metadata": {},
   "outputs": [],
   "source": []
  }
 ],
 "metadata": {
  "kernelspec": {
   "display_name": "Python 3",
   "language": "python",
   "name": "python3"
  },
  "language_info": {
   "codemirror_mode": {
    "name": "ipython",
    "version": 3
   },
   "file_extension": ".py",
   "mimetype": "text/x-python",
   "name": "python",
   "nbconvert_exporter": "python",
   "pygments_lexer": "ipython3",
   "version": "3.7.1"
  }
 },
 "nbformat": 4,
 "nbformat_minor": 2
}
